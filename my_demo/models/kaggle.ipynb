{
 "cells": [
  {
   "cell_type": "code",
   "execution_count": 1,
   "metadata": {
    "collapsed": false
   },
   "outputs": [],
   "source": [
    "import pandas as pd\n",
    "import numpy as np\n",
    "import requests\n",
    "from bs4 import BeautifulSoup\n",
    "import chardet\n",
    "import codecs\n",
    "from sklearn.feature_extraction.text import CountVectorizer\n",
    "from nltk.stem.snowball import RussianStemmer\n",
    "from functools import reduce\n",
    "import seaborn as sns\n",
    "from sklearn.model_selection import GridSearchCV\n",
    "from sklearn.feature_extraction.text import CountVectorizer, TfidfVectorizer\n",
    "from sklearn.pipeline import Pipeline\n",
    "from sklearn.linear_model import LogisticRegression, Lasso, SGDClassifier\n",
    "from sklearn.svm import LinearSVC\n",
    "from sklearn.naive_bayes import MultinomialNB\n",
    "from nltk.stem.snowball import SnowballStemmer\n",
    "import re\n",
    "import pickle\n",
    "\n",
    "%matplotlib inline"
   ]
  },
  {
   "cell_type": "markdown",
   "metadata": {},
   "source": [
    "Возьмем отзывы о мобильных телефонах с http://torg.mail.ru/review/goods/mobilephones/"
   ]
  },
  {
   "cell_type": "code",
   "execution_count": 2,
   "metadata": {
    "collapsed": true
   },
   "outputs": [],
   "source": [
    "rating_label = \"rating\"\n",
    "text_label = \"text\"\n",
    "\n",
    "def getReviewsFrom(url):\n",
    "    page = requests.get(url)\n",
    "    parser = BeautifulSoup(page.text, \"lxml\") \n",
    "    review_bodies = parser.findAll(\n",
    "        \"div\",\n",
    "        class_ = \"review-item__body\"\n",
    "    )\n",
    "    return map(parseReviewData, review_bodies)\n",
    "    \n",
    "def parseReviewData(review_body):\n",
    "    review_rating = float(\n",
    "        review_body.find(\n",
    "            \"span\",\n",
    "            class_ = \"review-item__rating-counter\"\n",
    "        ).text.replace(\",\", \".\")\n",
    "    )\n",
    "    review_content = review_body.find(\n",
    "        \"div\",\n",
    "        class_ = \"review-item__content\"\n",
    "    )\n",
    "    review_text = getTextFromContent(review_content)\n",
    "    return {text_label: review_text, rating_label: review_rating}\n",
    "\n",
    "def getTextFromContent(review_content):\n",
    "    return \". \".join(\n",
    "        map(\n",
    "            getFullTextFromP,\n",
    "            review_content.findAll(\"p\", class_ = \"review-item__paragraph\")\n",
    "        )\n",
    "    )\n",
    "    \n",
    "def getFullTextFromP(p_tag):\n",
    "    full_text_tag = p_tag.find(\n",
    "        \"a\",\n",
    "        class_ = \"more js-ustat_link js-ustat_link_readMore js-ustat_pseudo_link\"\n",
    "    )\n",
    "    return (full_text_tag[\"full-text\"] if full_text_tag else p_tag.text).strip()"
   ]
  },
  {
   "cell_type": "code",
   "execution_count": 3,
   "metadata": {
    "collapsed": false
   },
   "outputs": [
    {
     "name": "stdout",
     "output_type": "stream",
     "text": [
      "parsing: http://torg.mail.ru/review/goods/mobilephones/?page=1\n",
      "parsing: http://torg.mail.ru/review/goods/mobilephones/?page=2\n",
      "parsing: http://torg.mail.ru/review/goods/mobilephones/?page=3\n",
      "parsing: http://torg.mail.ru/review/goods/mobilephones/?page=4\n",
      "parsing: http://torg.mail.ru/review/goods/mobilephones/?page=5\n",
      "parsing: http://torg.mail.ru/review/goods/mobilephones/?page=6\n",
      "parsing: http://torg.mail.ru/review/goods/mobilephones/?page=7\n",
      "parsing: http://torg.mail.ru/review/goods/mobilephones/?page=8\n",
      "parsing: http://torg.mail.ru/review/goods/mobilephones/?page=9\n",
      "parsing: http://torg.mail.ru/review/goods/mobilephones/?page=10\n",
      "parsing: http://torg.mail.ru/review/goods/mobilephones/?page=11\n",
      "parsing: http://torg.mail.ru/review/goods/mobilephones/?page=12\n",
      "parsing: http://torg.mail.ru/review/goods/mobilephones/?page=13\n",
      "parsing: http://torg.mail.ru/review/goods/mobilephones/?page=14\n",
      "parsing: http://torg.mail.ru/review/goods/mobilephones/?page=15\n",
      "parsing: http://torg.mail.ru/review/goods/mobilephones/?page=16\n",
      "parsing: http://torg.mail.ru/review/goods/mobilephones/?page=17\n",
      "parsing: http://torg.mail.ru/review/goods/mobilephones/?page=18\n",
      "parsing: http://torg.mail.ru/review/goods/mobilephones/?page=19\n",
      "parsing: http://torg.mail.ru/review/goods/mobilephones/?page=20\n",
      "parsing: http://torg.mail.ru/review/goods/mobilephones/?page=21\n",
      "parsing: http://torg.mail.ru/review/goods/mobilephones/?page=22\n",
      "parsing: http://torg.mail.ru/review/goods/mobilephones/?page=23\n",
      "parsing: http://torg.mail.ru/review/goods/mobilephones/?page=24\n",
      "parsing: http://torg.mail.ru/review/goods/mobilephones/?page=25\n",
      "parsing: http://torg.mail.ru/review/goods/mobilephones/?page=26\n",
      "parsing: http://torg.mail.ru/review/goods/mobilephones/?page=27\n",
      "parsing: http://torg.mail.ru/review/goods/mobilephones/?page=28\n",
      "parsing: http://torg.mail.ru/review/goods/mobilephones/?page=29\n",
      "parsing: http://torg.mail.ru/review/goods/mobilephones/?page=30\n",
      "parsing: http://torg.mail.ru/review/goods/mobilephones/?page=31\n",
      "parsing: http://torg.mail.ru/review/goods/mobilephones/?page=32\n",
      "parsing: http://torg.mail.ru/review/goods/mobilephones/?page=33\n",
      "parsing: http://torg.mail.ru/review/goods/mobilephones/?page=34\n",
      "parsing: http://torg.mail.ru/review/goods/mobilephones/?page=35\n",
      "parsing: http://torg.mail.ru/review/goods/mobilephones/?page=36\n",
      "parsing: http://torg.mail.ru/review/goods/mobilephones/?page=37\n",
      "parsing: http://torg.mail.ru/review/goods/mobilephones/?page=38\n",
      "parsing: http://torg.mail.ru/review/goods/mobilephones/?page=39\n",
      "parsing: http://torg.mail.ru/review/goods/mobilephones/?page=40\n",
      "parsing: http://torg.mail.ru/review/goods/mobilephones/?page=41\n",
      "parsing: http://torg.mail.ru/review/goods/mobilephones/?page=42\n",
      "parsing: http://torg.mail.ru/review/goods/mobilephones/?page=43\n",
      "parsing: http://torg.mail.ru/review/goods/mobilephones/?page=44\n",
      "parsing: http://torg.mail.ru/review/goods/mobilephones/?page=45\n",
      "parsing: http://torg.mail.ru/review/goods/mobilephones/?page=46\n",
      "parsing: http://torg.mail.ru/review/goods/mobilephones/?page=47\n",
      "parsing: http://torg.mail.ru/review/goods/mobilephones/?page=48\n",
      "parsing: http://torg.mail.ru/review/goods/mobilephones/?page=49\n",
      "parsing: http://torg.mail.ru/review/goods/mobilephones/?page=50\n",
      "parsing: http://torg.mail.ru/review/goods/mobilephones/?page=51\n",
      "parsing: http://torg.mail.ru/review/goods/mobilephones/?page=52\n",
      "parsing: http://torg.mail.ru/review/goods/mobilephones/?page=53\n",
      "parsing: http://torg.mail.ru/review/goods/mobilephones/?page=54\n",
      "parsing: http://torg.mail.ru/review/goods/mobilephones/?page=55\n",
      "parsing: http://torg.mail.ru/review/goods/mobilephones/?page=56\n",
      "parsing: http://torg.mail.ru/review/goods/mobilephones/?page=57\n",
      "parsing: http://torg.mail.ru/review/goods/mobilephones/?page=58\n",
      "parsing: http://torg.mail.ru/review/goods/mobilephones/?page=59\n",
      "parsing: http://torg.mail.ru/review/goods/mobilephones/?page=60\n",
      "parsing: http://torg.mail.ru/review/goods/mobilephones/?page=61\n",
      "parsing: http://torg.mail.ru/review/goods/mobilephones/?page=62\n",
      "parsing: http://torg.mail.ru/review/goods/mobilephones/?page=63\n",
      "parsing: http://torg.mail.ru/review/goods/mobilephones/?page=64\n",
      "parsing: http://torg.mail.ru/review/goods/mobilephones/?page=65\n",
      "parsing: http://torg.mail.ru/review/goods/mobilephones/?page=66\n",
      "parsing: http://torg.mail.ru/review/goods/mobilephones/?page=67\n",
      "parsing: http://torg.mail.ru/review/goods/mobilephones/?page=68\n",
      "parsing: http://torg.mail.ru/review/goods/mobilephones/?page=69\n",
      "parsing: http://torg.mail.ru/review/goods/mobilephones/?page=70\n",
      "parsing: http://torg.mail.ru/review/goods/mobilephones/?page=71\n",
      "parsing: http://torg.mail.ru/review/goods/mobilephones/?page=72\n",
      "parsing: http://torg.mail.ru/review/goods/mobilephones/?page=73\n",
      "parsing: http://torg.mail.ru/review/goods/mobilephones/?page=74\n",
      "parsing: http://torg.mail.ru/review/goods/mobilephones/?page=75\n",
      "parsing: http://torg.mail.ru/review/goods/mobilephones/?page=76\n",
      "parsing: http://torg.mail.ru/review/goods/mobilephones/?page=77\n",
      "parsing: http://torg.mail.ru/review/goods/mobilephones/?page=78\n",
      "parsing: http://torg.mail.ru/review/goods/mobilephones/?page=79\n",
      "parsing: http://torg.mail.ru/review/goods/mobilephones/?page=80\n",
      "parsing: http://torg.mail.ru/review/goods/mobilephones/?page=81\n",
      "parsing: http://torg.mail.ru/review/goods/mobilephones/?page=82\n",
      "parsing: http://torg.mail.ru/review/goods/mobilephones/?page=83\n",
      "parsing: http://torg.mail.ru/review/goods/mobilephones/?page=84\n",
      "parsing: http://torg.mail.ru/review/goods/mobilephones/?page=85\n",
      "parsing: http://torg.mail.ru/review/goods/mobilephones/?page=86\n",
      "parsing: http://torg.mail.ru/review/goods/mobilephones/?page=87\n",
      "parsing: http://torg.mail.ru/review/goods/mobilephones/?page=88\n",
      "parsing: http://torg.mail.ru/review/goods/mobilephones/?page=89\n",
      "parsing: http://torg.mail.ru/review/goods/mobilephones/?page=90\n",
      "parsing: http://torg.mail.ru/review/goods/mobilephones/?page=91\n",
      "parsing: http://torg.mail.ru/review/goods/mobilephones/?page=92\n",
      "parsing: http://torg.mail.ru/review/goods/mobilephones/?page=93\n",
      "parsing: http://torg.mail.ru/review/goods/mobilephones/?page=94\n",
      "parsing: http://torg.mail.ru/review/goods/mobilephones/?page=95\n",
      "parsing: http://torg.mail.ru/review/goods/mobilephones/?page=96\n",
      "parsing: http://torg.mail.ru/review/goods/mobilephones/?page=97\n",
      "parsing: http://torg.mail.ru/review/goods/mobilephones/?page=98\n",
      "parsing: http://torg.mail.ru/review/goods/mobilephones/?page=99\n"
     ]
    },
    {
     "data": {
      "text/html": [
       "<div>\n",
       "<table border=\"1\" class=\"dataframe\">\n",
       "  <thead>\n",
       "    <tr style=\"text-align: right;\">\n",
       "      <th></th>\n",
       "      <th>rating</th>\n",
       "      <th>text</th>\n",
       "    </tr>\n",
       "  </thead>\n",
       "  <tbody>\n",
       "    <tr>\n",
       "      <th>0</th>\n",
       "      <td>4.0</td>\n",
       "      <td>Пользуюсь телефоном довольно долго.Нареканий н...</td>\n",
       "    </tr>\n",
       "    <tr>\n",
       "      <th>1</th>\n",
       "      <td>5.0</td>\n",
       "      <td>Я раньше ему ставил 4,а сейчас после того как ...</td>\n",
       "    </tr>\n",
       "    <tr>\n",
       "      <th>2</th>\n",
       "      <td>3.0</td>\n",
       "      <td>Не долгожитель!!!!! умер через 1 год использов...</td>\n",
       "    </tr>\n",
       "    <tr>\n",
       "      <th>3</th>\n",
       "      <td>5.0</td>\n",
       "      <td>Пользуюсь 2 дня. Эйфория прошла на 12 минуте. ...</td>\n",
       "    </tr>\n",
       "    <tr>\n",
       "      <th>4</th>\n",
       "      <td>5.0</td>\n",
       "      <td>Все радует, особенно батарея, которая при свое...</td>\n",
       "    </tr>\n",
       "  </tbody>\n",
       "</table>\n",
       "</div>"
      ],
      "text/plain": [
       "   rating                                               text\n",
       "0     4.0  Пользуюсь телефоном довольно долго.Нареканий н...\n",
       "1     5.0  Я раньше ему ставил 4,а сейчас после того как ...\n",
       "2     3.0  Не долгожитель!!!!! умер через 1 год использов...\n",
       "3     5.0  Пользуюсь 2 дня. Эйфория прошла на 12 минуте. ...\n",
       "4     5.0  Все радует, особенно батарея, которая при свое..."
      ]
     },
     "execution_count": 3,
     "metadata": {},
     "output_type": "execute_result"
    }
   ],
   "source": [
    "def appendReviewsFrom(df, url):\n",
    "    print(\"parsing: {}\".format(url))\n",
    "    rs = list(getReviewsFrom(url))\n",
    "    return pd.concat([df, pd.DataFrame(rs)], ignore_index=True)\n",
    "\n",
    "url_template = \"http://torg.mail.ru/review/goods/mobilephones/?page={}\"\n",
    "page_nums = range(1, 100)\n",
    "\n",
    "urls = [url_template.format(p) for p in page_nums]\n",
    "\n",
    "train_raw_data = reduce(\n",
    "    appendReviewsFrom,\n",
    "    urls,\n",
    "    pd.DataFrame(columns=[text_label, rating_label])\n",
    ")\n",
    "\n",
    "train_raw_data.head()"
   ]
  },
  {
   "cell_type": "code",
   "execution_count": 4,
   "metadata": {
    "collapsed": true
   },
   "outputs": [],
   "source": [
    "train_raw_data.to_csv(\"train.csv\", sep=\",\")"
   ]
  },
  {
   "cell_type": "code",
   "execution_count": 3,
   "metadata": {
    "collapsed": false
   },
   "outputs": [],
   "source": [
    "train_raw_data = pd.read_csv(\"train.csv\", index_col=0)"
   ]
  },
  {
   "cell_type": "code",
   "execution_count": 4,
   "metadata": {
    "collapsed": false
   },
   "outputs": [
    {
     "data": {
      "text/html": [
       "<div>\n",
       "<table border=\"1\" class=\"dataframe\">\n",
       "  <thead>\n",
       "    <tr style=\"text-align: right;\">\n",
       "      <th></th>\n",
       "      <th>rating</th>\n",
       "      <th>text</th>\n",
       "      <th>label</th>\n",
       "    </tr>\n",
       "  </thead>\n",
       "  <tbody>\n",
       "    <tr>\n",
       "      <th>0</th>\n",
       "      <td>4.0</td>\n",
       "      <td>Пользуюсь телефоном довольно долго.Нареканий н...</td>\n",
       "      <td>1</td>\n",
       "    </tr>\n",
       "    <tr>\n",
       "      <th>1</th>\n",
       "      <td>5.0</td>\n",
       "      <td>Я раньше ему ставил 4,а сейчас после того как ...</td>\n",
       "      <td>1</td>\n",
       "    </tr>\n",
       "    <tr>\n",
       "      <th>2</th>\n",
       "      <td>3.0</td>\n",
       "      <td>Не долгожитель!!!!! умер через 1 год использов...</td>\n",
       "      <td>0</td>\n",
       "    </tr>\n",
       "    <tr>\n",
       "      <th>3</th>\n",
       "      <td>5.0</td>\n",
       "      <td>Пользуюсь 2 дня. Эйфория прошла на 12 минуте. ...</td>\n",
       "      <td>1</td>\n",
       "    </tr>\n",
       "    <tr>\n",
       "      <th>4</th>\n",
       "      <td>5.0</td>\n",
       "      <td>Все радует, особенно батарея, которая при свое...</td>\n",
       "      <td>1</td>\n",
       "    </tr>\n",
       "  </tbody>\n",
       "</table>\n",
       "</div>"
      ],
      "text/plain": [
       "   rating                                               text  label\n",
       "0     4.0  Пользуюсь телефоном довольно долго.Нареканий н...      1\n",
       "1     5.0  Я раньше ему ставил 4,а сейчас после того как ...      1\n",
       "2     3.0  Не долгожитель!!!!! умер через 1 год использов...      0\n",
       "3     5.0  Пользуюсь 2 дня. Эйфория прошла на 12 минуте. ...      1\n",
       "4     5.0  Все радует, особенно батарея, которая при свое...      1"
      ]
     },
     "execution_count": 4,
     "metadata": {},
     "output_type": "execute_result"
    },
    {
     "data": {
      "image/png": "[encoded data removed]",
      "text/plain": [
       "<matplotlib.figure.Figure at 0x7fde937e4ba8>"
      ]
     },
     "metadata": {},
     "output_type": "display_data"
    }
   ],
   "source": [
    "sns.distplot(train_raw_data.rating, norm_hist=False, kde=False)\n",
    "train_raw_data[\"label\"] = train_raw_data.rating.apply(lambda r: 1 if r >= 4 else 0)\n",
    "train_raw_data.head()"
   ]
  },
  {
   "cell_type": "code",
   "execution_count": 5,
   "metadata": {
    "collapsed": false
   },
   "outputs": [],
   "source": [
    "stemmer = SnowballStemmer(\"russian\")\n",
    "analyzer = CountVectorizer().build_analyzer()\n",
    "\n",
    "def stemmed_words(doc):\n",
    "    return (stemmer.stem(w) for w in analyzer(doc))"
   ]
  },
  {
   "cell_type": "code",
   "execution_count": 6,
   "metadata": {
    "collapsed": false
   },
   "outputs": [],
   "source": [
    "# vectorizers\n",
    "vects = {\n",
    "    \"cnt\": CountVectorizer(),\n",
    "    \"tfidf\": TfidfVectorizer() \n",
    "}\n",
    "\n",
    "# classifiers\n",
    "clfs = {\n",
    "    \"log\": LogisticRegression(),\n",
    "#    \"sgd\": SGDClassifier(),\n",
    "#    \"svc\": LinearSVC(),\n",
    "#    \"mlt\": MultinomialNB()\n",
    "}\n",
    "\n",
    "# all (vectorizer, classifier) combinations\n",
    "pipes = {}\n",
    "for (v_name, vect) in vects.items():\n",
    "    for (c_name, clf) in clfs.items():\n",
    "        pipes[\"{}|{}\".format(v_name, c_name)] = Pipeline([\n",
    "            ('vect', vect),\n",
    "            ('clf', clf),\n",
    "        ])"
   ]
  },
  {
   "cell_type": "code",
   "execution_count": 7,
   "metadata": {
    "collapsed": false
   },
   "outputs": [],
   "source": [
    "# vectorizer and classifier parameters for gird serach\n",
    "parameters_sgd = {\n",
    "    'vect__max_df': list(1-0.05*i for i in range(0, 3)),\n",
    "    'vect__min_df': list(0.02*i for i in range(0, 3)),\n",
    "    'vect__ngram_range': ((1, 1), (1, 2), (2, 2)), \n",
    "    'vect__analyzer': [stemmed_words],\n",
    "    'clf__alpha': list(10**i for i in range(-4, -1)),\n",
    "    'clf__loss': ('hinge', 'log', 'modified_huber', 'squared_hinge', 'perceptron'),\n",
    "    'clf__penalty': (\"l1\", \"l2\", \"elasticnet\")\n",
    "}\n",
    "\n",
    "parameters_log = {\n",
    "    'vect__max_df': list(1-0.05*i for i in range(0, 2)),\n",
    "    'vect__min_df': list(0.02*i for i in range(0, 2)),\n",
    "    'vect__ngram_range': ((1, 1), (1, 2), (2, 2)),\n",
    "    'vect__analyzer': [stemmed_words],\n",
    "    'clf__C': list(10**i for i in range(-3, 3)),\n",
    "    'clf__penalty': (\"l1\", \"l2\")\n",
    "}\n",
    "\n",
    "parameters_svc = {\n",
    "    'vect__max_df': list(1-0.05*i for i in range(0, 2)),\n",
    "    'vect__min_df': list(0.02*i for i in range(0, 2)),\n",
    "    'vect__ngram_range': ((1, 1), (1, 2)),\n",
    "    'vect__analyzer': [stemmed_words],\n",
    "    'clf__C': list(10**i for i in range(-3, 2)),\n",
    "}\n",
    "\n",
    "parameters_mlt = {\n",
    "    'vect__max_df': list(1-0.05*i for i in range(0, 3)),\n",
    "    'vect__min_df': list(0.02*i for i in range(0, 3)),\n",
    "    'vect__ngram_range': ((1, 1), (1, 2), (2, 2)),\n",
    "    'vect__analyzer': [stemmed_words],\n",
    "    'clf__alpha': list(10**i for i in range(-3, 3)),\n",
    "}\n",
    "\n",
    "params = {\n",
    "    \"log\": parameters_log,\n",
    "    \"sgd\": parameters_sgd,\n",
    "    \"svc\": parameters_svc,\n",
    "    \"mlt\": parameters_mlt,\n",
    "}"
   ]
  },
  {
   "cell_type": "code",
   "execution_count": null,
   "metadata": {
    "collapsed": false,
    "scrolled": true
   },
   "outputs": [],
   "source": [
    "def print_result(gs_cv):\n",
    "    print(\"{}:\".format(p_name))\n",
    "    print(\"Best score: {}\".format(gs_cv.best_score_))\n",
    "    print(\"Best params: \")\n",
    "    print(gs_cv.best_params_)\n",
    "    print(\"========================================\")\n",
    "\n",
    "\n",
    "best_clfs = {} # map to store pipes with best params\n",
    "\n",
    "# run grid search for all pipes\n",
    "for (p_name, pipe) in pipes.items():\n",
    "    gs_cv = GridSearchCV(pipe, params[p_name.split(\"|\")[1]], cv=3)\n",
    "    gs_cv.fit(train_raw_data.text, train_raw_data.label)\n",
    "    print_result(gs_cv)\n",
    "    best_clfs[p_name] = gs_cv.best_estimator_"
   ]
  },
  {
   "cell_type": "code",
   "execution_count": 38,
   "metadata": {
    "collapsed": false
   },
   "outputs": [],
   "source": [
    "def save_clf(clf_name):\n",
    "    with open(\"{}.pkl\".format(clf_name.replace(\"|\",\"_\")), \"wb\") as f:\n",
    "        pickle.dump(best_clfs[clf_name], f)\n",
    "\n",
    "save_clf(\"cnt|log\") # ждать опитимизации других не хватило времени"
   ]
  },
  {
   "cell_type": "code",
   "execution_count": null,
   "metadata": {
    "collapsed": true
   },
   "outputs": [],
   "source": []
  },
  {
   "cell_type": "code",
   "execution_count": null,
   "metadata": {
    "collapsed": true
   },
   "outputs": [],
   "source": []
  }
 ],
 "metadata": {
  "anaconda-cloud": {},
  "kernelspec": {
   "display_name": "Python [default]",
   "language": "python",
   "name": "python3"
  },
  "language_info": {
   "codemirror_mode": {
    "name": "ipython",
    "version": 3
   },
   "file_extension": ".py",
   "mimetype": "text/x-python",
   "name": "python",
   "nbconvert_exporter": "python",
   "pygments_lexer": "ipython3",
   "version": "3.5.2"
  }
 },
 "nbformat": 4,
 "nbformat_minor": 0
}
